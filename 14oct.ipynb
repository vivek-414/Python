{
 "cells": [
  {
   "cell_type": "code",
   "execution_count": 1,
   "metadata": {},
   "outputs": [
    {
     "name": "stdout",
     "output_type": "stream",
     "text": [
      "Hello\n"
     ]
    }
   ],
   "source": [
    "print(\"Hello\")\n"
   ]
  },
  {
   "cell_type": "code",
   "execution_count": 4,
   "metadata": {},
   "outputs": [
    {
     "name": "stdout",
     "output_type": "stream",
     "text": [
      "._. ._.\n"
     ]
    }
   ],
   "source": [
    "print(\"\")"
   ]
  },
  {
   "cell_type": "code",
   "execution_count": 5,
   "metadata": {},
   "outputs": [
    {
     "name": "stdout",
     "output_type": "stream",
     "text": [
      "\n",
      " Data type of argument: <class 'dict'>\n",
      "Firstname is Sita\n",
      "Lastname is Sharma\n",
      "Age is 22\n",
      "Phone is 1234567890\n",
      "\n",
      " Data type of argument: <class 'dict'>\n",
      "Firstname is John\n",
      "Lastname is Norton\n",
      "Email is john@nomail.com\n",
      "Country is India\n",
      "Age is 25\n",
      "Phone is 98765432120\n"
     ]
    }
   ],
   "source": [
    "def func_kwarg(**data):\n",
    "    print(\"\\n Data type of argument:\",type(data))\n",
    "\n",
    "    for key ,value in data.items():\n",
    "        print(\"{} is {}\".format(key,value))\n",
    "\n",
    "func_kwarg(Firstname=\"Sita\", Lastname=\"Sharma\",Age=22, Phone=1234567890)\n",
    "func_kwarg(Firstname=\"John\", Lastname=\"Norton\",Email=\"john@nomail.com\", Country=\"India\", Age=25, Phone=98765432120)\n"
   ]
  },
  {
   "cell_type": "code",
   "execution_count": 9,
   "metadata": {},
   "outputs": [
    {
     "name": "stdout",
     "output_type": "stream",
     "text": [
      "20\n",
      "10\n"
     ]
    }
   ],
   "source": [
    "a=10\n",
    "def f11():\n",
    "    a=20\n",
    "    print(a)\n",
    "def f22():\n",
    "    print(a)\n",
    "\n",
    "f11()\n",
    "f22()"
   ]
  },
  {
   "cell_type": "code",
   "execution_count": 10,
   "metadata": {},
   "outputs": [
    {
     "name": "stdout",
     "output_type": "stream",
     "text": [
      "True\n",
      "True\n",
      "True\n"
     ]
    }
   ],
   "source": [
    "#calling a function with a function\n",
    "def test_prime(n):\n",
    "    if(n==1):\n",
    "        return False\n",
    "    elif (n==2):\n",
    "        return True\n",
    "    else:\n",
    "        for x in range(2,n//2):\n",
    "            if (n%x==0):\n",
    "                return False\n",
    "            return True\n",
    "print(test_prime(13))\n",
    "print(test_prime(15))\n",
    "print(test_prime(23))"
   ]
  },
  {
   "cell_type": "code",
   "execution_count": 14,
   "metadata": {},
   "outputs": [
    {
     "name": "stdout",
     "output_type": "stream",
     "text": [
      "Final Result: Hello,ALICE!\n"
     ]
    }
   ],
   "source": [
    "def capitalize(text):\n",
    "    return text.upper()\n",
    "\n",
    "def greet(name):\n",
    "    return f\"Hello,{name}!\"\n",
    "\n",
    "def greet_and_capitalize(name):\n",
    "    n=capitalize(name)\n",
    "    return greet(n)\n",
    "\n",
    "result=greet_and_capitalize(\"Alice\")\n",
    "print(\"Final Result:\",result)"
   ]
  },
  {
   "cell_type": "code",
   "execution_count": 17,
   "metadata": {},
   "outputs": [
    {
     "name": "stdout",
     "output_type": "stream",
     "text": [
      "11\n"
     ]
    }
   ],
   "source": [
    "def x(n):\n",
    "    print(n+5)\n",
    "x(6)"
   ]
  },
  {
   "cell_type": "code",
   "execution_count": 23,
   "metadata": {},
   "outputs": [
    {
     "name": "stdout",
     "output_type": "stream",
     "text": [
      "Values of name and 1st before calling function Tom [10, 20, 30]\n",
      "Values of name and 1st after calling function Tom [25, 20, 30]\n"
     ]
    }
   ],
   "source": [
    "def change(a,b):\n",
    "    a=\"Smith\"\n",
    "    b[0]=25\n",
    "name=\"Tom\"\n",
    "lst=[10,20,30]\n",
    "print(\"Values of name and 1st before calling function\", name,lst)\n",
    "change(name,lst)\n",
    "print(\"Values of name and 1st after calling function\", name,lst)"
   ]
  },
  {
   "cell_type": "code",
   "execution_count": 25,
   "metadata": {},
   "outputs": [],
   "source": [
    "\n",
    "import math \n",
    "\n",
    "print(math.ceil(1.4))\n",
    "print(math.fabs(-67.43))\n",
    "print(math.factorial(5))\n",
    "print(math.)"
   ]
  },
  {
   "cell_type": "code",
   "execution_count": 27,
   "metadata": {},
   "outputs": [
    {
     "name": "stdout",
     "output_type": "stream",
     "text": [
      "0.0\n",
      "2.0\n",
      "-1.0\n",
      "15.0\n"
     ]
    },
    {
     "ename": "TypeError",
     "evalue": "math.fsum() takes exactly one argument (2 given)",
     "output_type": "error",
     "traceback": [
      "\u001b[0;31m---------------------------------------------------------------------------\u001b[0m",
      "\u001b[0;31mTypeError\u001b[0m                                 Traceback (most recent call last)",
      "Cell \u001b[0;32mIn[27], line 7\u001b[0m\n\u001b[1;32m      5\u001b[0m \u001b[38;5;28mprint\u001b[39m(math\u001b[38;5;241m.\u001b[39mfmod(\u001b[38;5;241m-\u001b[39m\u001b[38;5;241m10\u001b[39m,\u001b[38;5;241m3\u001b[39m))\n\u001b[1;32m      6\u001b[0m \u001b[38;5;28mprint\u001b[39m(math\u001b[38;5;241m.\u001b[39mfsum([\u001b[38;5;241m1\u001b[39m,\u001b[38;5;241m2\u001b[39m,\u001b[38;5;241m3\u001b[39m,\u001b[38;5;241m4\u001b[39m,\u001b[38;5;241m5\u001b[39m]))\n\u001b[0;32m----> 7\u001b[0m \u001b[38;5;28mprint\u001b[39m(\u001b[43mmath\u001b[49m\u001b[38;5;241;43m.\u001b[39;49m\u001b[43mfsum\u001b[49m\u001b[43m(\u001b[49m\u001b[38;5;241;43m20\u001b[39;49m\u001b[43m,\u001b[49m\u001b[38;5;241;43m4\u001b[39;49m\u001b[43m)\u001b[49m)\n\u001b[1;32m      8\u001b[0m \u001b[38;5;28mprint\u001b[39m(math\u001b[38;5;241m.\u001b[39mfsum(\u001b[38;5;241m20\u001b[39m,\u001b[38;5;241m4\u001b[39m))\n\u001b[1;32m      9\u001b[0m \u001b[38;5;28mprint\u001b[39m(math\u001b[38;5;241m.\u001b[39mfsum({\u001b[38;5;241m1\u001b[39m:\u001b[38;5;124m\"\u001b[39m\u001b[38;5;124mone\u001b[39m\u001b[38;5;124m\"\u001b[39m,\u001b[38;5;241m2\u001b[39m:\u001b[38;5;124m\"\u001b[39m\u001b[38;5;124mtwo\u001b[39m\u001b[38;5;124m\"\u001b[39m,\u001b[38;5;241m3\u001b[39m:\u001b[38;5;241m3\u001b[39m,\u001b[38;5;241m4\u001b[39m:\u001b[38;5;241m4\u001b[39m}))\n",
      "\u001b[0;31mTypeError\u001b[0m: math.fsum() takes exactly one argument (2 given)"
     ]
    }
   ],
   "source": [
    "#this is incomplete\n",
    "import math\n",
    "print(math.fmod(20,4))\n",
    "print(math.fmod(20,3))\n",
    "print(math.fmod(-10,3))\n",
    "print(math.fsum([1,2,3,4,5]))\n",
    "print(math.fsum(20,4))\n",
    "print(math.fsum(20,4))\n",
    "print(math.fsum({1:\"one\",2:\"two\",3:3,4:4}))\n",
    "print(math.fsum({1,2,3,4,5}))"
   ]
  },
  {
   "cell_type": "code",
   "execution_count": 37,
   "metadata": {},
   "outputs": [
    {
     "name": "stdout",
     "output_type": "stream",
     "text": [
      "[20, 122, 30, 40, 50, 45]\n"
     ]
    }
   ],
   "source": [
    "a=[20,30,40,50]\n",
    "a.append(45)\n",
    "a.insert(1,122)\n",
    "print(a)"
   ]
  },
  {
   "cell_type": "code",
   "execution_count": 47,
   "metadata": {},
   "outputs": [
    {
     "name": "stdout",
     "output_type": "stream",
     "text": [
      "[20, 30, 40]\n"
     ]
    }
   ],
   "source": [
    "a=[20,30,40,50]\n",
    "a.pop(3)\n",
    "print(a)"
   ]
  },
  {
   "cell_type": "code",
   "execution_count": null,
   "metadata": {},
   "outputs": [],
   "source": [
    "Devdarshan is very shaana boy he keeps doing masti all the time in the class he is the most muscular and handsome boy "
   ]
  }
 ],
 "metadata": {
  "kernelspec": {
   "display_name": "Python 3",
   "language": "python",
   "name": "python3"
  },
  "language_info": {
   "codemirror_mode": {
    "name": "ipython",
    "version": 3
   },
   "file_extension": ".py",
   "mimetype": "text/x-python",
   "name": "python",
   "nbconvert_exporter": "python",
   "pygments_lexer": "ipython3",
   "version": "3.12.6"
  }
 },
 "nbformat": 4,
 "nbformat_minor": 2
}
