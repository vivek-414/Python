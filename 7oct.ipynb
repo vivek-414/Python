{
 "cells": [
  {
   "cell_type": "code",
   "execution_count": 1,
   "metadata": {},
   "outputs": [
    {
     "name": "stdout",
     "output_type": "stream",
     "text": [
      "Enter correct username and password combo to continue\n",
      "Access denied.Try again.\n",
      "Access denied.Try again.\n",
      "Sorry, Attempts completed \n",
      "Sorry, Attempts completed \n"
     ]
    }
   ],
   "source": [
    "from itertools import count\n",
    "\n",
    "\n",
    "print('Enter correct username and password combo to continue')\n",
    "count=0\n",
    "while count<3:\n",
    "    name,pwd=input(\"Enter Name and password\").split()\n",
    "    if name==\"stud\" and pwd==\"pass\":\n",
    "        print('Access granted')\n",
    "        break\n",
    "    else:\n",
    "        if count==2:\n",
    "            print(\"Sorry, Attempts completed \")\n",
    "        else:\n",
    "            print('Access denied.Try again.')\n",
    "            count+=1"
   ]
  },
  {
   "cell_type": "code",
   "execution_count": 6,
   "metadata": {},
   "outputs": [
    {
     "name": "stdout",
     "output_type": "stream",
     "text": [
      "Secret number is less than 7\n",
      "Secret number is greater than 4\n",
      "Secret number is greater than 5\n",
      "You guessed it right\n"
     ]
    }
   ],
   "source": [
    "\n",
    "from random import randint\n",
    "LOW,HIGH=1,10\n",
    "secret_number=randint(LOW,HIGH)\n",
    "clue=\"\"\n",
    "while True:\n",
    "    guess=input(f\"Guess a number between {LOW} and {HIGH} {clue}\")\n",
    "    number=int(guess)\n",
    "    if number > secret_number:\n",
    "        clue=(f\"Secret number is less than {number}\")\n",
    "        print(clue)\n",
    "    elif number<secret_number:\n",
    "        clue=(f\"Secret number is greater than {number}\")\n",
    "        print(clue)\n",
    "    else:\n",
    "        break\n",
    "print(f\"You guessed it right\")    "
   ]
  },
  {
   "cell_type": "code",
   "execution_count": 8,
   "metadata": {},
   "outputs": [
    {
     "name": "stdout",
     "output_type": "stream",
     "text": [
      "i= 0 j= 0\n",
      "i= 0 j= 1\n",
      "i= 0 j= 2\n",
      "i= 0 j= 3\n",
      "i= 1 j= 0\n",
      "i= 1 j= 1\n",
      "i= 1 j= 2\n",
      "i= 1 j= 3\n",
      "i= 2 j= 0\n",
      "i= 2 j= 1\n",
      "i= 2 j= 2\n",
      "i= 2 j= 3\n",
      "i= 3 j= 0\n",
      "i= 3 j= 1\n",
      "i= 3 j= 2\n",
      "i= 3 j= 3\n"
     ]
    }
   ],
   "source": [
    "\n",
    "\n",
    "\n",
    "for i in range (4):\n",
    "    for j in range(4):\n",
    "        print(\"i=\",i,\"j=\",j)"
   ]
  },
  {
   "cell_type": "code",
   "execution_count": 9,
   "metadata": {},
   "outputs": [
    {
     "name": "stdout",
     "output_type": "stream",
     "text": [
      "i=0 j=0\n",
      "i=0 j=1\n",
      "i=0 j=2\n",
      "i=1 j=0\n",
      "i=1 j=1\n",
      "i=1 j=2\n",
      "i=2 j=0\n",
      "i=2 j=1\n",
      "i=2 j=2\n"
     ]
    }
   ],
   "source": [
    "for i in range (3):\n",
    "    for j in range(3):\n",
    "        print(f\"i={i} j={j}\")"
   ]
  },
  {
   "cell_type": "code",
   "execution_count": 11,
   "metadata": {},
   "outputs": [
    {
     "name": "stdout",
     "output_type": "stream",
     "text": [
      "*   \n",
      "*   *   \n",
      "*   *   *   \n",
      "*   *   *   *   \n",
      "*   *   *   *   *   \n"
     ]
    }
   ],
   "source": [
    "rows=int(input(\"Enter number of rows \"))\n",
    "for i in range (1,rows+1):\n",
    "    for j in range(1,i+1):\n",
    "        print(\"*\",end=\"   \")\n",
    "    print()"
   ]
  },
  {
   "cell_type": "code",
   "execution_count": 12,
   "metadata": {},
   "outputs": [
    {
     "name": "stdout",
     "output_type": "stream",
     "text": [
      "*\n",
      "**\n",
      "***\n",
      "****\n",
      "*****\n"
     ]
    }
   ],
   "source": [
    "rows=int(input(\"Enter number of rows \"))\n",
    "for i in range (1,rows+1):\n",
    "    print('*'  * i)"
   ]
  },
  {
   "cell_type": "code",
   "execution_count": 16,
   "metadata": {},
   "outputs": [
    {
     "name": "stdout",
     "output_type": "stream",
     "text": [
      "*  \n",
      "*  *  \n",
      "*  *  *  \n",
      "*  *  *  *  \n",
      "*  *  *  *  *  \n",
      "*  *  *  *  *  *  \n",
      "*  *  *  *  *  *  *  \n",
      "*  *  *  *  *  *  *  *  \n",
      "*  *  *  *  *  *  *  *  *  \n",
      "*  *  *  *  *  *  *  *  *  *  \n"
     ]
    }
   ],
   "source": [
    "rows=int(input(\"Enter number of rows \"))\n",
    "for i in range (rows):\n",
    "    j=0\n",
    "    while j<=i:\n",
    "        print(\"*\" ,end=\"  \")\n",
    "        j+=1\n",
    "    print()"
   ]
  },
  {
   "cell_type": "code",
   "execution_count": 1,
   "metadata": {},
   "outputs": [
    {
     "name": "stdout",
     "output_type": "stream",
     "text": [
      "*  \n",
      "*  *  \n",
      "*  *  *  \n",
      "*  *  *  *  \n",
      "*  *  *  *  *  \n",
      "*  *  *  *  *  *  \n"
     ]
    }
   ],
   "source": [
    "rows=int(input(\"Enter a number of rows\"))\n",
    "i=1\n",
    "while i<rows+1:\n",
    "    j=1\n",
    "    while j<=i:\n",
    "        print(\"*\", end=\"  \")\n",
    "        j+=1\n",
    "    print()\n",
    "    i+=1"
   ]
  },
  {
   "cell_type": "code",
   "execution_count": 2,
   "metadata": {},
   "outputs": [
    {
     "name": "stdout",
     "output_type": "stream",
     "text": [
      "Hw\n"
     ]
    }
   ],
   "source": [
    "print(\"Hw\")"
   ]
  },
  {
   "cell_type": "code",
   "execution_count": 16,
   "metadata": {},
   "outputs": [
    {
     "name": "stdout",
     "output_type": "stream",
     "text": [
      "       *\n",
      "      ***\n",
      "     *****\n",
      "    *******\n",
      "   *********\n",
      "  ***********\n",
      " *************\n",
      "***************\n"
     ]
    }
   ],
   "source": [
    "rows=int (input(\"Enter number of rows\"))\n",
    "for i in range (rows):\n",
    "    for j in range(rows-i-1):\n",
    "        print(\" \", end=\"\")\n",
    "    for j in range(2*i+1):\n",
    "        print(\"*\",end=\"\")\n",
    "    print()\n"
   ]
  },
  {
   "cell_type": "code",
   "execution_count": 7,
   "metadata": {},
   "outputs": [
    {
     "name": "stdout",
     "output_type": "stream",
     "text": [
      "0 1 2 3 4 5 "
     ]
    }
   ],
   "source": [
    "for x in range(10):\n",
    "    if x>5:\n",
    "        break\n",
    "    print(x,end=' ')"
   ]
  },
  {
   "cell_type": "code",
   "execution_count": 15,
   "metadata": {},
   "outputs": [
    {
     "name": "stdout",
     "output_type": "stream",
     "text": [
      "115\n"
     ]
    }
   ],
   "source": [
    "sum=0\n",
    "for i in range(21): #0 to 20\n",
    "    if i in range(5,15): #5 to 14\n",
    "        continue\n",
    "    sum+=i #0+1+2+3+4+15+16+....+20\n",
    "print(sum)    "
   ]
  },
  {
   "cell_type": "code",
   "execution_count": 20,
   "metadata": {},
   "outputs": [
    {
     "name": "stdout",
     "output_type": "stream",
     "text": [
      "Number is a negative number\n"
     ]
    }
   ],
   "source": [
    "\n",
    "x=int(input(\"Enter a number\"))\n",
    "if x>=0:\n",
    "    pass\n",
    "else:\n",
    "    print(\"Number is a negative number\")"
   ]
  },
  {
   "cell_type": "code",
   "execution_count": 21,
   "metadata": {},
   "outputs": [
    {
     "name": "stdout",
     "output_type": "stream",
     "text": [
      "0  1  2  3  4  5  "
     ]
    }
   ],
   "source": [
    "for x in range(10):\n",
    "    if(x>5):\n",
    "        break\n",
    "    print (x, end=\"  \")\n",
    "else:\n",
    "    print(\"Finally finished\")    "
   ]
  },
  {
   "cell_type": "code",
   "execution_count": 27,
   "metadata": {},
   "outputs": [
    {
     "name": "stdout",
     "output_type": "stream",
     "text": [
      "element not found\n"
     ]
    }
   ],
   "source": [
    "ls=[10,20,30,40,50,60,70]\n",
    "search_ele=int(input(\"enter a number\"))\n",
    "for ele in ls:\n",
    "    if search_ele==ele:\n",
    "        print(\"element found\")\n",
    "        break\n",
    "else:\n",
    "    print(\"element not found\")    "
   ]
  },
  {
   "cell_type": "code",
   "execution_count": 28,
   "metadata": {},
   "outputs": [
    {
     "name": "stdout",
     "output_type": "stream",
     "text": [
      "0 1 2 3 4 5 "
     ]
    }
   ],
   "source": [
    "for x in range (10):\n",
    "    if (x>5):\n",
    "        break\n",
    "    print(x, end=\" \")\n",
    "else:\n",
    "    print(\"Finally finished! \")"
   ]
  },
  {
   "cell_type": "code",
   "execution_count": 29,
   "metadata": {},
   "outputs": [
    {
     "name": "stdout",
     "output_type": "stream",
     "text": [
      "ELement not found\n"
     ]
    }
   ],
   "source": [
    "ls=[10,20,30,40,50]\n",
    "search_ele=int(input(\"Enter a number\"))\n",
    "i=0\n",
    "while i<len(ls):\n",
    "    if search_ele==ls[i]:\n",
    "        print(\"Element found\")\n",
    "        break\n",
    "    i+=1\n",
    "else:\n",
    "    print(\"ELement not found\")"
   ]
  },
  {
   "cell_type": "code",
   "execution_count": 30,
   "metadata": {},
   "outputs": [
    {
     "name": "stdout",
     "output_type": "stream",
     "text": [
      "The new created array is : 1 2 3 "
     ]
    }
   ],
   "source": [
    "import array as arr\n",
    "a=arr.array('i' ,[1,2,3])\n",
    "print(\"The new created array is :\",end=\" \")\n",
    "for i in range(0,3):\n",
    "    print(a[i], end =\" \")"
   ]
  },
  {
   "cell_type": "code",
   "execution_count": 31,
   "metadata": {},
   "outputs": [
    {
     "name": "stdout",
     "output_type": "stream",
     "text": [
      "H  e  l  l  o     W  O  r  l  d  "
     ]
    }
   ],
   "source": [
    "str=(\"Hello WOrld\")\n",
    "for i in str:\n",
    "    print(i,end=\"  \")"
   ]
  },
  {
   "cell_type": "code",
   "execution_count": 35,
   "metadata": {},
   "outputs": [
    {
     "name": "stdout",
     "output_type": "stream",
     "text": [
      "The new created array is : 1 2 12 "
     ]
    }
   ],
   "source": [
    "import array as arr\n",
    "a=arr.array('i',[1,2,12])\n",
    "print(\"The new created array is :\", end=\" \")\n",
    "for i in range (len(a)):\n",
    "    print(a[i], end=\" \")"
   ]
  },
  {
   "cell_type": "code",
   "execution_count": 45,
   "metadata": {},
   "outputs": [
    {
     "name": "stdout",
     "output_type": "stream",
     "text": [
      "\n",
      " The new created array is : 2.5 3.5 4.5 "
     ]
    }
   ],
   "source": [
    "\n",
    "d=arr.array('d',[2.5,3.5,4.5])\n",
    "print(\"\\n The new created array is :\",end=\" \")\n",
    "for i in range(0,3):\n",
    "    print(b[i],end=\" \")"
   ]
  },
  {
   "cell_type": "code",
   "execution_count": 50,
   "metadata": {},
   "outputs": [
    {
     "name": "stdout",
     "output_type": "stream",
     "text": [
      "Array before insertion: 1 2 3 \n",
      "Array after insertion : 1 4 2 3 "
     ]
    }
   ],
   "source": [
    "import array as arr\n",
    "a=arr.array('i',[1,2,3])\n",
    "print(\"Array before insertion:\", end=\" \")\n",
    "for i in range (0,3):\n",
    "    print(a[i],end=\" \")\n",
    "print()\n",
    "\n",
    "a.insert (1,4)\n",
    "\n",
    "print(\"Array after insertion :\", end=\" \")\n",
    "for i in range (0,4):\n",
    "    print(a[i],end=\" \")"
   ]
  },
  {
   "cell_type": "code",
   "execution_count": 51,
   "metadata": {},
   "outputs": [
    {
     "name": "stdout",
     "output_type": "stream",
     "text": [
      "The popped element is :3\n",
      "The popped element is:5\n",
      "The array after popping is:1 2 1 \n"
     ]
    }
   ],
   "source": [
    "#removing elelments\n",
    "import array\n",
    "arr=array.array('i', [1,2,3,1,5])\n",
    "print(f\"The popped element is :{arr.pop(2)}\")\n",
    "print(f\"The popped element is:{arr.pop()}\")\n",
    "\n",
    "print(\"The array after popping is:\", end=\"\")\n",
    "for i in range (len(arr)):\n",
    "    print(arr[i],end=\" \")\n",
    "print()"
   ]
  },
  {
   "cell_type": "code",
   "execution_count": 53,
   "metadata": {},
   "outputs": [
    {
     "name": "stdout",
     "output_type": "stream",
     "text": [
      "array('i', [0, 1, 2, 3, 4, 5, 6, 7, 8, 9])\n",
      "array('i', [3, 4, 5, 6, 7])\n",
      "array('i', [5, 6, 7, 8, 9])\n",
      "array('i', [0, 1, 2, 3, 4, 5, 6, 7, 8, 9])\n",
      "array('i', [9, 8, 7, 6, 5, 4, 3, 2, 1, 0])\n"
     ]
    }
   ],
   "source": [
    "import array as arr\n",
    "l=[0,1,2,3,4,5,6,7,8,9]\n",
    "a=arr.array('i',l)\n",
    "print(a)\n",
    "Sliced_array=a[3:8]\n",
    "print(Sliced_array)\n",
    "print(a[5:])\n",
    "print(a[:])\n",
    "print(a[::-1])"
   ]
  },
  {
   "cell_type": "code",
   "execution_count": 55,
   "metadata": {},
   "outputs": [
    {
     "name": "stdout",
     "output_type": "stream",
     "text": [
      "The index of 1st occurence of 2 is : 1\n",
      "The index of 1st occurence of 1 is : 0\n"
     ]
    }
   ],
   "source": [
    "#index searching\n",
    "import array \n",
    "arr=array.array ('i',[1,2,3,4,5])\n",
    "print(f\"The index of 1st occurence of 2 is : {arr.index(2)}\")\n",
    "print(\"The index of 1st occurence of 1 is : \",end=\"\")\n",
    "print(arr.index(1))"
   ]
  },
  {
   "cell_type": "code",
   "execution_count": 60,
   "metadata": {},
   "outputs": [
    {
     "name": "stdout",
     "output_type": "stream",
     "text": [
      "Number of occurences of 2: 3\n",
      "array('i', [2, 5, 2, 4, 3, 2, 1])\n"
     ]
    }
   ],
   "source": [
    "import array \n",
    "my_array=array.array('i',[1,2,3,4,2,5,2])\n",
    "count=my_array.count(2)\n",
    "print(\"Number of occurences of 2:\",count)\n",
    "my_array.reverse()\n",
    "print(my_array)\n"
   ]
  },
  {
   "cell_type": "code",
   "execution_count": 62,
   "metadata": {},
   "outputs": [
    {
     "name": "stdout",
     "output_type": "stream",
     "text": [
      "The  array before extend : 1 2 3 4 5 \n",
      "\n",
      " The array after extend : 1 2 3 4 5 6 7 8 9 10 \n"
     ]
    }
   ],
   "source": [
    "import array as arr\n",
    "a=arr.array('i',[1,2,3,4,5])\n",
    "print(\"The  array before extend :\", end=\" \")\n",
    "for i in range (0,5):\n",
    "    print(a[i], end=\" \")\n",
    "print()\n",
    "\n",
    "a.extend ([6,7,8,9,10])\n",
    "print(\"\\n The array after extend :\", end=\" \")\n",
    "\n",
    "for i in range (0,10):\n",
    "    print(a[i],end=\" \")\n",
    "print()"
   ]
  },
  {
   "cell_type": "code",
   "execution_count": 69,
   "metadata": {},
   "outputs": [
    {
     "name": "stdout",
     "output_type": "stream",
     "text": [
      "nohtyP\n",
      "noh\n",
      "nohty\n",
      "ysae s\n"
     ]
    }
   ],
   "source": [
    "\n",
    "s=\"Python is easy\"\n",
    "print(s[5::-1])\n",
    "print(s[5:-12:-1])\n",
    "print(s[5:0:-1])\n",
    "print(s[-1:-7:-1])"
   ]
  },
  {
   "cell_type": "code",
   "execution_count": 70,
   "metadata": {},
   "outputs": [
    {
     "name": "stdout",
     "output_type": "stream",
     "text": [
      "'very' is present in 'Python is very easy' \n"
     ]
    }
   ],
   "source": [
    "#membership\n",
    "s=\"Python is very easy\"\n",
    "if \"very\" in s:\n",
    "    print(f\"'very' is present in '{s}' \")"
   ]
  },
  {
   "cell_type": "code",
   "execution_count": 71,
   "metadata": {},
   "outputs": [
    {
     "name": "stdout",
     "output_type": "stream",
     "text": [
      "LEARNING PYHTON IS VERY EASY\n",
      "learning pyhton is very easy\n",
      "LEARNING pYHTON IS VERY EASY\n",
      "Learning Pyhton Is Very Easy\n",
      "Learning pyhton is very easy\n"
     ]
    }
   ],
   "source": [
    "s=\"learning Pyhton is very easy\"\n",
    "print(s.upper())\n",
    "print(s.lower())\n",
    "print(s.swapcase())\n",
    "print(s.title())\n",
    "print(s.capitalize())"
   ]
  },
  {
   "cell_type": "code",
   "execution_count": 72,
   "metadata": {},
   "outputs": [
    {
     "name": "stdout",
     "output_type": "stream",
     "text": [
      "True\n",
      "False\n",
      "True\n"
     ]
    }
   ],
   "source": [
    "s=\"learning Pyhton is very easy\"\n",
    "print(s.startswith('learning'))\n",
    "print(s.endswith('learning'))\n",
    "print(s.endswith('easy'))"
   ]
  },
  {
   "cell_type": "code",
   "execution_count": 78,
   "metadata": {},
   "outputs": [
    {
     "name": "stdout",
     "output_type": "stream",
     "text": [
      "False\n",
      "False\n",
      "False\n",
      "False\n",
      "False\n",
      "False\n"
     ]
    }
   ],
   "source": [
    "s=\"learning Pyhton is very easy\"\n",
    "print(s.isalnum())\n",
    "print(s.isalpha())\n",
    "print(s.isdigit())\n",
    "print(s.islower())\n",
    "print(s.istitle())\n",
    "print(s.isspace())"
   ]
  },
  {
   "cell_type": "code",
   "execution_count": 80,
   "metadata": {},
   "outputs": [
    {
     "name": "stdout",
     "output_type": "stream",
     "text": [
      "2\n",
      "-1\n",
      "-1\n",
      "2\n"
     ]
    }
   ],
   "source": [
    "s=\"Python  is teh easiest \"\n",
    "print(s.find(\"th\"))\n",
    "print(s.find(\"Java\"))\n",
    "print(s.find('th',7,15))\n",
    "print(s.index(\"th\"))"
   ]
  },
  {
   "cell_type": "code",
   "execution_count": 81,
   "metadata": {},
   "outputs": [
    {
     "name": "stdout",
     "output_type": "stream",
     "text": [
      "0\n"
     ]
    }
   ],
   "source": [
    "s=\"Joy of giving and sharing\"\n",
    "print(s.count('z'))"
   ]
  },
  {
   "cell_type": "code",
   "execution_count": 82,
   "metadata": {},
   "outputs": [
    {
     "name": "stdout",
     "output_type": "stream",
     "text": [
      "Learning Python is very easy\n"
     ]
    }
   ],
   "source": [
    "s=\"Learning Python is very difficult\"\n",
    "s1=s.replace(\"difficult\",\"easy\")\n",
    "print(s1)"
   ]
  },
  {
   "cell_type": "code",
   "execution_count": null,
   "metadata": {},
   "outputs": [],
   "source": []
  }
 ],
 "metadata": {
  "kernelspec": {
   "display_name": "Python 3",
   "language": "python",
   "name": "python3"
  },
  "language_info": {
   "codemirror_mode": {
    "name": "ipython",
    "version": 3
   },
   "file_extension": ".py",
   "mimetype": "text/x-python",
   "name": "python",
   "nbconvert_exporter": "python",
   "pygments_lexer": "ipython3",
   "version": "3.12.6"
  }
 },
 "nbformat": 4,
 "nbformat_minor": 2
}
