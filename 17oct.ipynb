{
 "cells": [
  {
   "cell_type": "code",
   "execution_count": 1,
   "metadata": {},
   "outputs": [
    {
     "name": "stdout",
     "output_type": "stream",
     "text": [
      "[1, 2, 9, 5]\n"
     ]
    }
   ],
   "source": [
    "list=[1,2,9,2,3,4,5,1,2,5,6,7,8,9]\n",
    "dup=[]\n",
    "for a in list:\n",
    "    n=list.count(a)\n",
    "    if n>1:\n",
    "        if dup.count(a)==0:\n",
    "            dup.append(a)\n",
    "print(dup)"
   ]
  },
  {
   "cell_type": "code",
   "execution_count": 2,
   "metadata": {},
   "outputs": [
    {
     "name": "stdout",
     "output_type": "stream",
     "text": [
      "Hello World\n"
     ]
    }
   ],
   "source": [
    "print(\"Hello World\")"
   ]
  },
  {
   "cell_type": "code",
   "execution_count": 25,
   "metadata": {},
   "outputs": [
    {
     "name": "stdout",
     "output_type": "stream",
     "text": [
      "('H', 'e', 'l', 'l', 'o')\n"
     ]
    }
   ],
   "source": [
    "s1=tuple(\"Hello\")\n",
    "print(s1)"
   ]
  },
  {
   "cell_type": "code",
   "execution_count": 29,
   "metadata": {},
   "outputs": [
    {
     "name": "stdout",
     "output_type": "stream",
     "text": [
      "['Learning', 'Python', 'is', 'very,very', 'easy!!!']\n",
      "<class 'list'>\n"
     ]
    }
   ],
   "source": [
    "#list\n",
    "s=\"Learning Python is very,very easy!!!\"\n",
    "l=s.split()\n",
    "print(l)\n",
    "print(type(l))"
   ]
  },
  {
   "cell_type": "code",
   "execution_count": 30,
   "metadata": {},
   "outputs": [],
   "source": [
    "id=[1,2,3]\n",
    "emp_name=[\"Ram\",\"John\",\"Sam\"]\n",
    "num_emp=3\n",
    "emp_list=[id,emp_name,num_emp]"
   ]
  },
  {
   "cell_type": "code",
   "execution_count": 31,
   "metadata": {},
   "outputs": [
    {
     "name": "stdout",
     "output_type": "stream",
     "text": [
      "[10, 20, 30, 40, 50, 60, 70, 80, 90]\n",
      "20\n",
      "[20, 30, 40, 50]\n",
      "[10, 20, 30, 40, 50, 60, 70, 80, 90]\n",
      "[40, 50, 60, 70, 80, 90]\n",
      "[60, 70, 80]\n",
      "[50, 40, 30, 20, 10]\n"
     ]
    }
   ],
   "source": [
    "ls3=[10,20,30,40,50,60,70,80,90]\n",
    "print(ls3)\n",
    "print(ls3[1])\n",
    "print(ls3[1:5])\n",
    "print(ls3[:])\n",
    "print(ls3[3:40])\n",
    "print(ls3[-4:-1:1])\n",
    "print(ls3[-5:-20:-1])\n",
    "\n"
   ]
  },
  {
   "cell_type": "code",
   "execution_count": 32,
   "metadata": {},
   "outputs": [
    {
     "name": "stdout",
     "output_type": "stream",
     "text": [
      "10 20 30 40 50 60 70 80 90 "
     ]
    }
   ],
   "source": [
    "ls3=[10,20,30,40,50,60,70,80,90]\n",
    "print(ls3)\n",
    "print(ls3[1])\n",
    "print(ls3[1:5])\n",
    "print(ls3[:])\n",
    "print(ls3[3:40])\n",
    "print(ls3[-4:-1:1])\n",
    "print(ls3[-5:-20:-1])\n",
    "\n"
   ]
  },
  {
   "cell_type": "code",
   "execution_count": 33,
   "metadata": {},
   "outputs": [
    {
     "name": "stdout",
     "output_type": "stream",
     "text": [
      "[[1, 2, 3], ['Ram', 'john', 'sam'], 3]\n",
      "[[1, 2, 3], ['Ram', 'Karan', 'sam'], 2]\n",
      "[[1, 2, 3], ['Hari', 'geeta', 'sam'], 2]\n"
     ]
    }
   ],
   "source": [
    "id=[1,2,3]\n",
    "emp_name=['Ram','john','sam']\n",
    "num_emp=3\n",
    "emp_list=[id,emp_name, num_emp]\n",
    "print(emp_list)\n",
    "emp_list[2]=2\n",
    "emp_list[1][1]=\"Karan\"\n",
    "print(emp_list)\n",
    "emp_list[1][0:2]=[\"Hari\",'geeta']\n",
    "print(emp_list)"
   ]
  },
  {
   "cell_type": "code",
   "execution_count": 34,
   "metadata": {},
   "outputs": [
    {
     "name": "stdout",
     "output_type": "stream",
     "text": [
      "['A', 'C', 'D']\n"
     ]
    }
   ],
   "source": [
    "list1=[]\n",
    "list1.append(\"A\")\n",
    "list1.append(\"C\")\n",
    "list1.append(\"D\")\n",
    "print(list1)\n",
    "\n",
    "\n",
    "\n",
    "\n"
   ]
  },
  {
   "cell_type": "code",
   "execution_count": 35,
   "metadata": {},
   "outputs": [
    {
     "name": "stdout",
     "output_type": "stream",
     "text": [
      "['honda', 'yamaha', 'suzuki', 'access', 'tvs']\n",
      "['yamaha', 'suzuki', 'access', 'tvs']\n",
      "['yamaha', 'tvs']\n"
     ]
    }
   ],
   "source": [
    "\n",
    "motorcycles=['honda','yamaha','suzuki','access','tvs']\n",
    "print(motorcycles)\n",
    "del motorcycles[0]\n",
    "print(motorcycles)\n",
    "del motorcycles[1:3]\n",
    "print(motorcycles)\n",
    "del motorcycles\n",
    "\n",
    "\n",
    "\n"
   ]
  },
  {
   "cell_type": "code",
   "execution_count": 36,
   "metadata": {},
   "outputs": [
    {
     "name": "stdout",
     "output_type": "stream",
     "text": [
      "['honda', 'yamaha', 'suzuki', 'access', 'tvs']\n",
      "['honda', 'yamaha', 'suzuki', 'access']\n",
      "The last motorcycle i owned was a Tvs.\n"
     ]
    }
   ],
   "source": [
    "\n",
    "motorcycles=['honda','yamaha','suzuki','access','tvs']\n",
    "print(motorcycles)\n",
    "popped_motorcycle=motorcycles.pop()\n",
    "print(motorcycles)\n",
    "print(\"The last motorcycle i owned was a \" +popped_motorcycle.title()+\".\")\n"
   ]
  },
  {
   "cell_type": "code",
   "execution_count": 37,
   "metadata": {},
   "outputs": [
    {
     "name": "stdout",
     "output_type": "stream",
     "text": [
      "[10, 20, 30]\n",
      "[10, 40, 20, 30]\n",
      "[150, 10, 40, 20, 30]\n",
      "[150, (45, 55), 10, 40, 20, 30]\n"
     ]
    }
   ],
   "source": [
    "list4=[10,20,30]\n",
    "print(list4)\n",
    "list4.insert(1,40)\n",
    "print(list4)\n",
    "list4.insert(-10,150)\n",
    "print(list4)\n",
    "list4.insert(1,(45,55))\n",
    "print(list4)"
   ]
  },
  {
   "cell_type": "code",
   "execution_count": null,
   "metadata": {},
   "outputs": [],
   "source": [
    "there"
   ]
  }
 ],
 "metadata": {
  "kernelspec": {
   "display_name": "Python 3",
   "language": "python",
   "name": "python3"
  },
  "language_info": {
   "codemirror_mode": {
    "name": "ipython",
    "version": 3
   },
   "file_extension": ".py",
   "mimetype": "text/x-python",
   "name": "python",
   "nbconvert_exporter": "python",
   "pygments_lexer": "ipython3",
   "version": "3.12.6"
  }
 },
 "nbformat": 4,
 "nbformat_minor": 2
}
