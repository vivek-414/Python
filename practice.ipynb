{
 "cells": [
  {
   "cell_type": "code",
   "execution_count": 1,
   "metadata": {},
   "outputs": [
    {
     "name": "stdout",
     "output_type": "stream",
     "text": [
      "Hello world this is for our practice\n"
     ]
    }
   ],
   "source": [
    "print(\"Hello world this is for our practice\")"
   ]
  },
  {
   "cell_type": "code",
   "execution_count": 6,
   "metadata": {},
   "outputs": [
    {
     "name": "stdout",
     "output_type": "stream",
     "text": [
      "[1, 2, 3, 5, 4, 6, 7, 8, 9, 'hello']\n",
      "[2, 5, 6, 8]\n"
     ]
    }
   ],
   "source": [
    "ls=[1,2,3,5,4,6,7,8,9,'hello']\n",
    "print(ls)\n",
    "print(ls[1:8:2])"
   ]
  },
  {
   "cell_type": "code",
   "execution_count": 8,
   "metadata": {},
   "outputs": [
    {
     "name": "stdout",
     "output_type": "stream",
     "text": [
      "4\n"
     ]
    }
   ],
   "source": [
    "t=(1,2,3,4,5,4,3,2,1)\n",
    "print(t[-4])"
   ]
  },
  {
   "cell_type": "code",
   "execution_count": 13,
   "metadata": {},
   "outputs": [
    {
     "name": "stdout",
     "output_type": "stream",
     "text": [
      "2\n"
     ]
    }
   ],
   "source": [
    "fuel={\"Petrol\":1,\"CNG\":2}\n",
    "print(fuel[\"CNG\"])"
   ]
  },
  {
   "cell_type": "code",
   "execution_count": 15,
   "metadata": {},
   "outputs": [
    {
     "name": "stdout",
     "output_type": "stream",
     "text": [
      "100.0\n"
     ]
    }
   ],
   "source": [
    "a=30\n",
    "b=20\n",
    "c=10\n",
    "d=5\n",
    "print((a+b)*c/d)"
   ]
  },
  {
   "cell_type": "code",
   "execution_count": 27,
   "metadata": {},
   "outputs": [
    {
     "name": "stdout",
     "output_type": "stream",
     "text": [
      "Sam has 12 red balls and 31 yellow balls\n"
     ]
    }
   ],
   "source": [
    "print('Sam has {0:d} red balls and {1:d} yellow balls'.format(12,31))\n"
   ]
  },
  {
   "cell_type": "code",
   "execution_count": 28,
   "metadata": {},
   "outputs": [
    {
     "name": "stdout",
     "output_type": "stream",
     "text": [
      "num4=435.12343\n"
     ]
    }
   ],
   "source": [
    "n=435.1234321\n",
    "print(\"num4={0:.5f}\".format(n))"
   ]
  },
  {
   "cell_type": "code",
   "execution_count": 41,
   "metadata": {},
   "outputs": [
    {
     "name": "stdout",
     "output_type": "stream",
     "text": [
      "My name is ABC and my balance is 1550.234123\n"
     ]
    }
   ],
   "source": [
    "name=\"ABC\"\n",
    "balance=1550.234123\n",
    "print(\"My name is {n} and my balance is {b}\".format(n=name,b=balance))"
   ]
  },
  {
   "cell_type": "code",
   "execution_count": 42,
   "metadata": {},
   "outputs": [
    {
     "name": "stdout",
     "output_type": "stream",
     "text": [
      "36\n"
     ]
    }
   ],
   "source": [
    "a,b,c=map(int,input(\"Enter 3 nos\").split())\n",
    "x=a+b+c\n",
    "print(x)"
   ]
  },
  {
   "cell_type": "code",
   "execution_count": 43,
   "metadata": {},
   "outputs": [
    {
     "ename": "TypeError",
     "evalue": "int() argument must be a string, a bytes-like object or a real number, not 'method'",
     "output_type": "error",
     "traceback": [
      "\u001b[0;31m---------------------------------------------------------------------------\u001b[0m",
      "\u001b[0;31mTypeError\u001b[0m                                 Traceback (most recent call last)",
      "Cell \u001b[0;32mIn[43], line 1\u001b[0m\n\u001b[0;32m----> 1\u001b[0m num\u001b[38;5;241m=\u001b[39m\u001b[38;5;28;43mint\u001b[39;49m\u001b[43m(\u001b[49m\u001b[38;5;28;43minput\u001b[39;49m\u001b[43m)\u001b[49m\n",
      "\u001b[0;31mTypeError\u001b[0m: int() argument must be a string, a bytes-like object or a real number, not 'method'"
     ]
    }
   ],
   "source": [
    "num=int(input (\"Enter a number\"))\n",
    "match num:\n",
    "    case 1:"
   ]
  },
  {
   "cell_type": "code",
   "execution_count": 76,
   "metadata": {},
   "outputs": [
    {
     "name": "stdout",
     "output_type": "stream",
     "text": [
      "array('i', [1, 2, 3, 4, 5, 6])\n"
     ]
    }
   ],
   "source": [
    "#in range 0,3 3 is excluded therefore 012 will be the answer\n",
    "import array as arr\n",
    "l=[1,2,3,4,5,6]\n",
    "a=arr.array('i',l)\n",
    "print(a)\n",
    "\n"
   ]
  },
  {
   "cell_type": "code",
   "execution_count": 53,
   "metadata": {},
   "outputs": [
    {
     "name": "stdout",
     "output_type": "stream",
     "text": [
      "0   1   2   "
     ]
    }
   ],
   "source": [
    "for i in range(0,3):\n",
    "    print(i,end=\"   \")"
   ]
  },
  {
   "cell_type": "code",
   "execution_count": null,
   "metadata": {},
   "outputs": [],
   "source": [
    "import array \n",
    "arr= array.array('i', [1,2,3,1,5])\n"
   ]
  },
  {
   "cell_type": "code",
   "execution_count": null,
   "metadata": {},
   "outputs": [],
   "source": []
  },
  {
   "cell_type": "code",
   "execution_count": 71,
   "metadata": {},
   "outputs": [
    {
     "name": "stdout",
     "output_type": "stream",
     "text": [
      "The popped element is : 3\n",
      "The popped element is : 51\n",
      "The array after popping is :   1 2 1 "
     ]
    }
   ],
   "source": [
    "import array\n",
    "arr = array.array('i', [1, 2, 3, 1, 51])\n",
    "print(f\"The popped element is : {arr.pop(2)}\" )\n",
    "print(f\"The popped element is : {arr.pop()}\" )\n",
    "print(\"The array after popping is : \", end=\"  \")\n",
    "for i in range(len(arr)):\n",
    "    print(arr[i], end=\" \")"
   ]
  },
  {
   "cell_type": "code",
   "execution_count": 78,
   "metadata": {},
   "outputs": [
    {
     "name": "stdout",
     "output_type": "stream",
     "text": [
      "5\n",
      "array('i', [1, 2, 1, 4, 5, 6, 7])\n"
     ]
    }
   ],
   "source": [
    "import array as arr\n",
    "s=arr.array('i', [1,2,3,4,5,6,7])\n",
    "print(s.index(6))\n",
    "s[2]=1\n",
    "print(s)"
   ]
  },
  {
   "cell_type": "code",
   "execution_count": 91,
   "metadata": {},
   "outputs": [
    {
     "name": "stdout",
     "output_type": "stream",
     "text": [
      "1    2    3    2    1    2    3    2    2    1    2    3    3    2    2    1    3    4    2    2    1    3    10  "
     ]
    }
   ],
   "source": [
    "import  array as arr\n",
    "a=arr.array('i',[1,2,3,2,1,2,3,2,2,1,2,3,3,2,2,1,3,4,2,2,1,3])\n",
    "for i in (a):\n",
    "    print(i,end=\"    \")\n",
    "print(a.count(2),end=\"  \")"
   ]
  },
  {
   "cell_type": "code",
   "execution_count": 102,
   "metadata": {},
   "outputs": [
    {
     "name": "stdout",
     "output_type": "stream",
     "text": [
      "z\n"
     ]
    },
    {
     "ename": "TypeError",
     "evalue": "'str' object does not support item assignment",
     "output_type": "error",
     "traceback": [
      "\u001b[0;31m---------------------------------------------------------------------------\u001b[0m",
      "\u001b[0;31mTypeError\u001b[0m                                 Traceback (most recent call last)",
      "Cell \u001b[0;32mIn[102], line 6\u001b[0m\n\u001b[1;32m      4\u001b[0m a\u001b[38;5;241m.\u001b[39mstrip()\n\u001b[1;32m      5\u001b[0m \u001b[38;5;28mprint\u001b[39m(a[\u001b[38;5;241m6\u001b[39m])\n\u001b[0;32m----> 6\u001b[0m \u001b[43ma\u001b[49m\u001b[43m[\u001b[49m\u001b[38;5;241;43m6\u001b[39;49m\u001b[43m]\u001b[49m\u001b[38;5;241m=\u001b[39m\u001b[38;5;124m\"\u001b[39m\u001b[38;5;124mH\u001b[39m\u001b[38;5;124m\"\u001b[39m\n",
      "\u001b[0;31mTypeError\u001b[0m: 'str' object does not support item assignment"
     ]
    }
   ],
   "source": [
    "a=\"pythonznnn\"\n",
    "a.lstrip()\n",
    "a.rstrip()\n",
    "a.strip()\n",
    "print(a[6])\n",
    "a[6]=\"H\""
   ]
  },
  {
   "cell_type": "code",
   "execution_count": 113,
   "metadata": {},
   "outputs": [
    {
     "name": "stdout",
     "output_type": "stream",
     "text": [
      "yoi\n",
      "Python is damn easy boy but not for me\n",
      "em rof ton tub yob ysae nmad si nohtyP\n",
      "eo\n",
      "\n",
      "nohty\n",
      "em rof\n"
     ]
    }
   ],
   "source": [
    "a=\"Python is damn easy boy but not for me\"\n",
    "print(a[1:10:3])\n",
    "print(a[::])\n",
    "print(a[::-1]) \n",
    "print (a[15::-11])\n",
    "print (a[5:-12:-1])\n",
    "print (a[5:0:-1])\n",
    "print(a[-1:-7:-1])"
   ]
  },
  {
   "cell_type": "code",
   "execution_count": 2,
   "metadata": {},
   "outputs": [
    {
     "name": "stdout",
     "output_type": "stream",
     "text": [
      "25\n"
     ]
    }
   ],
   "source": [
    "#lambda\n",
    "s=lambda a:a*a\n",
    "print(s(5))"
   ]
  },
  {
   "cell_type": "code",
   "execution_count": 1,
   "metadata": {},
   "outputs": [
    {
     "ename": "",
     "evalue": "",
     "output_type": "error",
     "traceback": [
      "\u001b[1;31mThe Kernel crashed while executing code in the current cell or a previous cell. \n",
      "\u001b[1;31mPlease review the code in the cell(s) to identify a possible cause of the failure. \n",
      "\u001b[1;31mClick <a href='https://aka.ms/vscodeJupyterKernelCrash'>here</a> for more info. \n",
      "\u001b[1;31mView Jupyter <a href='command:jupyter.viewOutput'>log</a> for further details."
     ]
    }
   ],
   "source": [
    "#basic gui application\n",
    "#import knife \n",
    "from tkinter import *\n",
    "\n",
    "#create root window\n",
    "root=Tk()\n",
    "\n",
    "#root window title and dimnension\n",
    "root.title(\"My first tkinteer app\")\n",
    "root.geometry('500x400')\n",
    "\n",
    "root.mainloop()"
   ]
  },
  {
   "cell_type": "code",
   "execution_count": 1,
   "metadata": {},
   "outputs": [
    {
     "ename": "",
     "evalue": "",
     "output_type": "error",
     "traceback": [
      "\u001b[1;31mThe Kernel crashed while executing code in the current cell or a previous cell. \n",
      "\u001b[1;31mPlease review the code in the cell(s) to identify a possible cause of the failure. \n",
      "\u001b[1;31mClick <a href='https://aka.ms/vscodeJupyterKernelCrash'>here</a> for more info. \n",
      "\u001b[1;31mView Jupyter <a href='command:jupyter.viewOutput'>log</a> for further details."
     ]
    }
   ],
   "source": [
    "import tkinter as tk\n",
    "window=tk.Tk()\n",
    "lbl1=tk.Label(master=window,text=\"Hello        World\")\n",
    "lbl1.pack()\n",
    "window.mainloop()"
   ]
  },
  {
   "cell_type": "code",
   "execution_count": 2,
   "metadata": {},
   "outputs": [],
   "source": [
    "f=open(\"File_123.txt\",'w')\n",
    "f.write(\"This is my \") \n",
    "f.write(\"python file\")\n",
    "f.write(\"\\nHappy programming\") # Give \\n otherwise all the content will be written in a single line\n",
    "f. close()\n",
    "\n"
   ]
  },
  {
   "cell_type": "code",
   "execution_count": null,
   "metadata": {},
   "outputs": [],
   "source": []
  }
 ],
 "metadata": {
  "kernelspec": {
   "display_name": "Python 3",
   "language": "python",
   "name": "python3"
  },
  "language_info": {
   "codemirror_mode": {
    "name": "ipython",
    "version": 3
   },
   "file_extension": ".py",
   "mimetype": "text/x-python",
   "name": "python",
   "nbconvert_exporter": "python",
   "pygments_lexer": "ipython3",
   "version": "3.12.6"
  }
 },
 "nbformat": 4,
 "nbformat_minor": 2
}
